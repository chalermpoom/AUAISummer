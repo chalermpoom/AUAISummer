{
  "nbformat": 4,
  "nbformat_minor": 0,
  "metadata": {
    "colab": {
      "name": "Untitled2.ipynb",
      "version": "0.3.2",
      "provenance": [],
      "include_colab_link": true
    },
    "kernelspec": {
      "name": "python2",
      "display_name": "Python 2"
    }
  },
  "cells": [
    {
      "cell_type": "markdown",
      "metadata": {
        "id": "view-in-github",
        "colab_type": "text"
      },
      "source": [
        "[View in Colaboratory](https://colab.research.google.com/github/chalermpoom/AUAISummer/blob/master/Untitled2.ipynb)"
      ]
    },
    {
      "metadata": {
        "id": "KdhIGwKF0Ywb",
        "colab_type": "code",
        "colab": {
          "base_uri": "https://localhost:8080/",
          "height": 418
        },
        "outputId": "47122e4d-c8c5-4d77-f32e-ae455341510b"
      },
      "cell_type": "code",
      "source": [
        "#loss\n",
        "import tensorflow as tf\n",
        "import numpy as np\n",
        "import matplotlib.pyplot as plt\n",
        "\n",
        "def add_layer(inputs, in_size, out_size, activation_funciton=None):\n",
        "    #add one more layer and return the output of this layer\n",
        "    Weights = tf.Variable(tf.random_normal([in_size,out_size]))\n",
        "    biases =tf.Variable(tf.zeros([1,out_size])+0.1)\n",
        "    Wx_plus_b = tf.matmul(inputs,Weights)+biases\n",
        "\n",
        "    if activation_funciton is None:\n",
        "        outputs = Wx_plus_b\n",
        "    else:\n",
        "        outputs = activation_funciton(Wx_plus_b)\n",
        "    return outputs\n",
        "\n",
        "#Make up some real data\n",
        "x_data = np.linspace(-1,1,300)[:,np.newaxis]\n",
        "noise = np.random.normal(0,0.05,x_data.shape)\n",
        "y_data = np.square(x_data) - 0.5 + noise\n",
        "\n",
        "#defin placeholder for inputs to network\n",
        "xs = tf.placeholder(tf.float32,[None, 1])\n",
        "ys = tf.placeholder(tf.float32,[None, 1])\n",
        "\n",
        "#add hidden layer\n",
        "l1= add_layer(xs,1,10,activation_funciton=tf.nn.relu)\n",
        "#add output layer\n",
        "prediction = add_layer(l1, 10, 1, activation_funciton=None)\n",
        "\n",
        "\n",
        "#the error between prefiction and real data\n",
        "loss =tf.reduce_mean(tf.reduce_sum (tf.square(ys- prediction), reduction_indices=[1]))\n",
        "\n",
        "train_step = tf.train.GradientDescentOptimizer(0.1).minimize(loss)\n",
        "\n",
        "init = tf.initialize_all_variables()\n",
        "\n",
        "sess = tf.Session()\n",
        "sess.run(init)\n",
        "\n",
        "#\n",
        "fig = plt.figure()\n",
        "ax = fig.add_subplot(1,1,1)\n",
        "ax.scatter(x_data, y_data)\n",
        "plt.ion()\n",
        "plt.show()\n",
        "\n",
        "for i in range(1000):\n",
        "    sess.run(train_step, feed_dict={xs:x_data,ys:y_data})\n",
        "    if i % 50 == 0:\n",
        "        #print(sess.run(loss,feed_dict={xs:x_data, ys:y_data}))\n",
        "        try:\n",
        "            ax.lines.remove(lines[0])\n",
        "        except Exception:\n",
        "            pass\n",
        "        prediction_value = sess.run(prediction,feed_dict={xs:x_data,ys:y_data})\n",
        "        lines = ax.plot(x_data, prediction_value, 'r-', lw = 5 )\n",
        "        plt.pause(0.1)\n",
        "        plt.show()\n"
      ],
      "execution_count": 6,
      "outputs": [
        {
          "output_type": "stream",
          "text": [
            "WARNING:tensorflow:From /usr/local/lib/python2.7/dist-packages/tensorflow/python/util/tf_should_use.py:118: initialize_all_variables (from tensorflow.python.ops.variables) is deprecated and will be removed after 2017-03-02.\n",
            "Instructions for updating:\n",
            "Use `tf.global_variables_initializer` instead.\n"
          ],
          "name": "stdout"
        },
        {
          "output_type": "display_data",
          "data": {
            "image/png": "[encoded data removed]",
            "text/plain": [
              "<matplotlib.figure.Figure at 0x7fef822cf2d0>"
            ]
          },
          "metadata": {
            "tags": []
          }
        }
      ]
    },
    {
      "metadata": {
        "id": "7lfYqjzyF-lg",
        "colab_type": "text"
      },
      "cell_type": "markdown",
      "source": [
        "import tensorflow as tf\n",
        "import numpy as np\n",
        "\n",
        "#creat data\n",
        "x_data = np.random.rand(100).astype(np.float32)\n",
        "y_data = x_data * 0.1 +0.3\n",
        "\n",
        "#creat tensorflow structure start\n",
        "Weight = tf.Variable(tf.random_uniform([1], -1.0,1.0))\n",
        "biases =  tf.Variable(tf.zeros([1]))\n",
        "y = Weight * x_data + biases\n",
        "\n",
        "\n",
        "#loss(MSE)\n",
        "loss = tf.reduce_mean(tf.square(y-y_data))\n",
        "optimizer = tf.train.GradientDescentOptimizer(0.5)\n",
        "train = optimizer.minimize(loss)\n",
        "\n",
        "\n",
        "init = tf.initialize_all_variables()\n",
        "#creat tensorflow structure end\n",
        "\n",
        "\n",
        "sess = tf.Session() # tensorflow \n",
        "sess.run(init) #Very important\n",
        "\n",
        "for step in range (200):\n",
        "    sess.run(train)\n",
        "    if step % 20 == 0:\n",
        "        print (step, sess.run(Weight), sess.run(biases))\n",
        "\n",
        "sess.close()  \n"
      ]
    },
    {
      "metadata": {
        "id": "4gnJplnuGBP3",
        "colab_type": "text"
      },
      "cell_type": "markdown",
      "source": [
        ""
      ]
    }
  ]
}