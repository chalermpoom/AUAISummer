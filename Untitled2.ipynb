{
  "nbformat": 4,
  "nbformat_minor": 0,
  "metadata": {
    "colab": {
      "name": "Untitled2.ipynb",
      "version": "0.3.2",
      "provenance": [],
      "include_colab_link": true
    },
    "kernelspec": {
      "name": "python2",
      "display_name": "Python 2"
    }
  },
  "cells": [
    {
      "cell_type": "markdown",
      "metadata": {
        "id": "view-in-github",
        "colab_type": "text"
      },
      "source": [
        "[View in Colaboratory](https://colab.research.google.com/github/chalermpoom/AUAISummer/blob/master/Untitled2.ipynb)"
      ]
    },
    {
      "metadata": {
        "id": "WHF5tILs1FLt",
        "colab_type": "text"
      },
      "cell_type": "markdown",
      "source": [
        "# AI Challenge \n",
        "\n",
        "Samsung AI Challenge 2018 | The ACUMOS AI Challenge\n",
        "------------ | -------------\n",
        "AI Hackathon | Security\n",
        "Data Challenge | Enterprise Solutions\n",
        "\n",
        "\n",
        "\n"
      ]
    },
    {
      "metadata": {
        "id": "4XUOQRHx3Pvr",
        "colab_type": "text"
      },
      "cell_type": "markdown",
      "source": [
        "# Samsung AI Challenge 2018\n",
        "## AI Hackathon\n",
        " * AI Hackathon is a contest where participants will showcase their ideas of AI to the world\n",
        "and implement these ideas using AI Technologies\n",
        "\n",
        "## Data Challenge\n",
        "* Data Challenge is a contest where participants will analyze the \n",
        "numerous data of the world to infer more accurate results.\n",
        "![](https://cdn.codeground.org/sr/images/meta/saic_600.png)\n",
        "\n",
        "\n",
        "\n",
        "#The ACUMOS AI Challenge\n",
        "## Security\n",
        "* Build an AI app around network security use cases such as advanced threat protection, cyber security, IoT security, and more.\n",
        "\n",
        "##\tEnterprise Solutions\n",
        "* Build an AI model targeting an enterprise use case, including solutions for Automotive, Home Automation, Infrastructure, and Iot.''\n",
        "\n",
        "![GitHub Logo](https://www.linuxfoundation.org/wp-content/uploads/2018/05/Acumos.jpg)\n"
      ]
    }
  ]
}